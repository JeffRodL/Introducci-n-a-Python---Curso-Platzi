{
 "cells": [
  {
   "cell_type": "markdown",
   "id": "5f7beca2-3ca0-4cd9-a6d8-a9d44487abdf",
   "metadata": {},
   "source": [
    "# Introducción a Python "
   ]
  },
  {
   "cell_type": "markdown",
   "id": "2dfc62c2-a147-48f2-9c2c-ca501b8757e0",
   "metadata": {},
   "source": [
    "Para empezar a escribir código con Python es necesario conocer algunos términos relacionados a la programación. \n",
    "    \n",
    "### Algoritmos\n",
    "\n",
    "Serie de pasos para resolver un problema. Estos pasos deben tener un orden, finito, con principio y final. No ambiguo. Un algoritmo puede ser representado con diagramas de flujo. \n",
    "\n",
    "### Comandos para manejar la consola\n",
    "\n",
    "- CD : Change Directory. Sirve para moverse de carpetas en carperas.\n",
    "- LS : List. Muestra la lista de archivos dentro de las carpetas.\n",
    "- MKDIR: Make Directory. Crea una carpeta y se le asigna nombre que tendrá.\n",
    "- Touch: Para crear archivos. \n",
    "- RM: eliminar archivos y carpetas.\n",
    "- CLEAR: limpiar la consola.\n",
    "\n",
    "## Operaciones Matemáticas\n",
    "\n",
    "Python también te permité realizar operaciones matemáticas desde la consola sin necesidad de agregar una librería, por ejemplo\n",
    "\n"
   ]
  },
  {
   "cell_type": "code",
   "execution_count": 1,
   "id": "53bef036-9a22-46f2-810f-cc95bc3c2df2",
   "metadata": {},
   "outputs": [
    {
     "data": {
      "text/plain": [
       "10"
      ]
     },
     "execution_count": 1,
     "metadata": {},
     "output_type": "execute_result"
    }
   ],
   "source": [
    "5+5"
   ]
  },
  {
   "cell_type": "markdown",
   "id": "73dced42-211e-48eb-8f31-ee2227b5b8b3",
   "metadata": {},
   "source": [
    "Es posible hacer sumas, restas, multiplicación y división con los signos + - * y / respectivamente. Si se quiere encontrar una división entera se utiliza // y para los exponentes ** "
   ]
  },
  {
   "cell_type": "code",
   "execution_count": 2,
   "id": "9336c4bd-7756-4dcf-afa4-e88d352ac864",
   "metadata": {},
   "outputs": [
    {
     "data": {
      "text/plain": [
       "16"
      ]
     },
     "execution_count": 2,
     "metadata": {},
     "output_type": "execute_result"
    }
   ],
   "source": [
    "2**4"
   ]
  },
  {
   "cell_type": "markdown",
   "id": "c0233009-cc8d-434f-b1e6-dd8c2fbf1c3a",
   "metadata": {},
   "source": [
    "Es de notar que se puede realizar una operación por línea de codigo. Si se hacen dos operaciones, solo muestra la última operación"
   ]
  },
  {
   "cell_type": "code",
   "execution_count": 4,
   "id": "5aa83deb-de76-4739-9665-01baa02e1919",
   "metadata": {},
   "outputs": [
    {
     "data": {
      "text/plain": [
       "260"
      ]
     },
     "execution_count": 4,
     "metadata": {},
     "output_type": "execute_result"
    }
   ],
   "source": [
    "2*4\n",
    "4**4+4"
   ]
  },
  {
   "cell_type": "markdown",
   "id": "53dc8f94-db15-4cce-80c1-1d5eaa1119a0",
   "metadata": {},
   "source": [
    "Para realizar una raíz cuadrada puede ser tomada por la definición"
   ]
  },
  {
   "cell_type": "code",
   "execution_count": 5,
   "id": "8ac1e815-8785-4d46-a79d-1cc72aac4920",
   "metadata": {},
   "outputs": [
    {
     "data": {
      "text/plain": [
       "1.4142135623730951"
      ]
     },
     "execution_count": 5,
     "metadata": {},
     "output_type": "execute_result"
    }
   ],
   "source": [
    "2**(1/2)"
   ]
  },
  {
   "cell_type": "markdown",
   "id": "83c5e702-b6e8-42c7-b4f9-16d6c8e42c47",
   "metadata": {},
   "source": [
    "Una variable, llamada identificadores, es un lugar en memoria (una especie de caja) en el que podemos guardar objetos (números, texto, etc). Esta variable posee un identificador o nombre con el cual podemos llamarla cuando la necesitemos. \n",
    "\n",
    "Para asignar una variable basta con"
   ]
  },
  {
   "cell_type": "code",
   "execution_count": 8,
   "id": "ba4a25e9-6fbc-4379-9653-2902a861dc49",
   "metadata": {},
   "outputs": [
    {
     "name": "stdout",
     "output_type": "stream",
     "text": [
      "5.0\n"
     ]
    }
   ],
   "source": [
    "Variable1 = 125\n",
    "Variable2 = 25\n",
    "\n",
    "print(Variable1/Variable2)"
   ]
  },
  {
   "cell_type": "markdown",
   "id": "baa6af58-5bd1-4576-9bfb-f0ae08902b2f",
   "metadata": {},
   "source": [
    "Si la variable se vuelve usar, se sustuye el último dato guardado en esa variable."
   ]
  },
  {
   "cell_type": "code",
   "execution_count": 10,
   "id": "552b7641-504f-468e-8e39-874b76c8dc12",
   "metadata": {},
   "outputs": [
    {
     "name": "stdout",
     "output_type": "stream",
     "text": [
      "Hola mundo\n"
     ]
    }
   ],
   "source": [
    "Variable1 = 'Hola mundo'\n",
    "print(Variable1)"
   ]
  },
  {
   "cell_type": "markdown",
   "id": "8a2e4793-5197-4157-a91c-40329bb681d8",
   "metadata": {},
   "source": [
    "Los identificadores no pueden iniciar con un nombre y para escribir espacio se utiliza guión bajo '_'"
   ]
  },
  {
   "cell_type": "code",
   "execution_count": 11,
   "id": "d6823580-7413-43ec-b01e-2b581920c406",
   "metadata": {},
   "outputs": [
    {
     "name": "stdout",
     "output_type": "stream",
     "text": [
      "Esto es solo un ejemplo\n"
     ]
    }
   ],
   "source": [
    "ejemplo_de_variable = 'Esto es solo un ejemplo'\n",
    "print(ejemplo_de_variable)"
   ]
  },
  {
   "cell_type": "markdown",
   "id": "6fa754e6-6834-4314-9f21-0990d0a6bdc4",
   "metadata": {},
   "source": [
    "Existen varios tipos de datos en Python\n",
    " Datos Simples\n",
    "- Números enteros.\n",
    "- Números de punto flotante.\n",
    "- Texto / Cádenas de caracteres.\n",
    "- Booleanos.\n",
    "\n",
    "Datos compuestos\n",
    "- Tablas, arrays, string.\n",
    "- Estructura, record.\n",
    "- Tupla.\n",
    "- Listas, diccionarios, set."
   ]
  },
  {
   "cell_type": "code",
   "execution_count": 16,
   "id": "48ae7603-d2f1-4922-a91a-a244ef23cedd",
   "metadata": {},
   "outputs": [
    {
     "name": "stdout",
     "output_type": "stream",
     "text": [
      "Jefferson Rodríguez\n",
      "JeffersonJeffersonJeffersonJefferson\n"
     ]
    }
   ],
   "source": [
    "# Un ejemplo de variables tipo texto puede ser\n",
    "\n",
    "nombre1 = 'Jefferson'\n",
    "nombre2 = ' Rodríguez'\n",
    "# y lo siguiente es a lo que se llama una concatenación\n",
    "\n",
    "print(nombre1 + nombre2)\n",
    "print(4*nombre1)"
   ]
  },
  {
   "cell_type": "code",
   "execution_count": 19,
   "id": "956c855c-b90b-409f-9b51-9011814a65f4",
   "metadata": {},
   "outputs": [
    {
     "data": {
      "text/plain": [
       "3.1416"
      ]
     },
     "execution_count": 19,
     "metadata": {},
     "output_type": "execute_result"
    }
   ],
   "source": [
    "# En python los números float se escriben con '.' no con ','\n",
    "\n",
    "numfloat = 3.1416\n",
    "# Se puede imprimir sin necesidad de la función print()\n",
    "numfloat"
   ]
  },
  {
   "cell_type": "code",
   "execution_count": 20,
   "id": "7830e12e-6b12-4865-a1aa-b220329d914e",
   "metadata": {},
   "outputs": [
    {
     "data": {
      "text/plain": [
       "True"
      ]
     },
     "execution_count": 20,
     "metadata": {},
     "output_type": "execute_result"
    }
   ],
   "source": [
    "# Los valores Booleanos, son aquellos que o son verdaderos o son falso\n",
    "\n",
    "trabaja = False\n",
    "estudia = True\n",
    "\n",
    "estudia"
   ]
  },
  {
   "cell_type": "markdown",
   "id": "d9c4ae39-04d6-4fa3-8fd1-a9798547b68d",
   "metadata": {},
   "source": [
    "¿ Cómo guardar datos en una variable? utilizando el comando input"
   ]
  },
  {
   "cell_type": "code",
   "execution_count": 1,
   "id": "5aff00a3-7ead-4cb6-883f-118b747ee31b",
   "metadata": {},
   "outputs": [
    {
     "name": "stdout",
     "output_type": "stream",
     "text": [
      "Escribe un número 1\n"
     ]
    },
    {
     "name": "stdout",
     "output_type": "stream",
     "text": [
      "tú número es 1\n"
     ]
    }
   ],
   "source": [
    "var1 = input('Escribe un número')\n",
    "print('tú número es', var1)"
   ]
  },
  {
   "cell_type": "markdown",
   "id": "74e3b0e9-0bfe-42f9-82c8-a80a969b219b",
   "metadata": {},
   "source": [
    "pero si se tiene dos variables y estas se suman entocnes resulta algo interesante"
   ]
  },
  {
   "cell_type": "code",
   "execution_count": 4,
   "id": "a943ccae-d246-4505-a405-373ca5a9c88b",
   "metadata": {},
   "outputs": [
    {
     "name": "stdout",
     "output_type": "stream",
     "text": [
      "Escriba su segundo número 2\n"
     ]
    },
    {
     "name": "stdout",
     "output_type": "stream",
     "text": [
      "la suma entre var1 y var2 es: 12\n"
     ]
    }
   ],
   "source": [
    "var2 = input('Escriba su segundo número')\n",
    "print('la suma entre var1 y var2 es:', var1+var2)\n",
    "#el resultado no es 3, es 12"
   ]
  },
  {
   "cell_type": "markdown",
   "id": "eaf239b7-553d-4fb5-93e6-a9d9e05347a3",
   "metadata": {},
   "source": [
    "Es debido a que esas variables las guarda como textos y al sumarla, estas se concatenan. \n",
    "Para ello es necesario darle un valor al número que se va ingresar"
   ]
  },
  {
   "cell_type": "code",
   "execution_count": 6,
   "id": "b664ee9a-1765-40e2-aa95-4188b4131fa3",
   "metadata": {},
   "outputs": [
    {
     "data": {
      "text/plain": [
       "3"
      ]
     },
     "execution_count": 6,
     "metadata": {},
     "output_type": "execute_result"
    }
   ],
   "source": [
    "# Se convierte la variable var1 en una variable de tipo int\n",
    "var1 = int(var1)\n",
    "var2 = int(var2)\n",
    "\n",
    "var1 + var2"
   ]
  },
  {
   "cell_type": "markdown",
   "id": "4805a5da-b696-41ef-add6-7378cec468cf",
   "metadata": {},
   "source": [
    "Si se quisiera hacer el cambio y convertir una variable en texto, de tipo character, se utiliza la función str"
   ]
  },
  {
   "cell_type": "code",
   "execution_count": 7,
   "id": "bc502521-072b-4642-94ff-db472a5bd77b",
   "metadata": {},
   "outputs": [
    {
     "data": {
      "text/plain": [
       "'3.6'"
      ]
     },
     "execution_count": 7,
     "metadata": {},
     "output_type": "execute_result"
    }
   ],
   "source": [
    "var3 = 3.6\n",
    "str(var3)"
   ]
  },
  {
   "cell_type": "markdown",
   "id": "21140a68-1868-42d8-b7d2-a1e9aa8fcb71",
   "metadata": {},
   "source": [
    "siendo entocnes las funciones más útiles las \n",
    "\n",
    "- int(var)\tvariable a entero\n",
    "- float(var)\tvariable a flotante\n",
    "- str(var)\tvariable a texto\n",
    "- bool(var)\tvariable a booleano\n",
    "- abs(var)\tvariable a valor absoluto\n"
   ]
  },
  {
   "cell_type": "markdown",
   "id": "a2366638-9ec4-43fd-8e50-667e19c69002",
   "metadata": {},
   "source": [
    "### Operadores lógicos y operadores de comparación en Python\n",
    "\n",
    "Los operadores lógicos son aquellos que nos enseñaron en matemáticas de pequeños, donde las tablas de verdad se trabajan con la sintaxis de and, or y not. En python se pueden escribir de esta forma o también con los símbolos & para and y | para or. "
   ]
  },
  {
   "cell_type": "code",
   "execution_count": 8,
   "id": "61013fb4-1519-4773-a993-fb0ba3e19006",
   "metadata": {},
   "outputs": [
    {
     "data": {
      "text/plain": [
       "False"
      ]
     },
     "execution_count": 8,
     "metadata": {},
     "output_type": "execute_result"
    }
   ],
   "source": [
    "# ejemplo de operaciones lógica\n",
    "\n",
    "es_estudiante = True\n",
    "es_empleado = False \n",
    "\n",
    "es_estudiante and es_empleado"
   ]
  },
  {
   "cell_type": "markdown",
   "id": "231ffd79-948d-48ff-a032-fbe7ab59e82d",
   "metadata": {},
   "source": [
    "Or será False siempre que la variable sea False y con la que se esté operando también sea False, siguiendo las leyes de lógica. El operador NOT invierte toda variable.\n",
    "\n",
    "Los operadores de comparación son aquellos que ayudan a comparar dos variables para saber si están son iguales '==' si es mayor que '>', mayor o igual que '>=', menor que '<', mayor o igual que '<='"
   ]
  },
  {
   "cell_type": "code",
   "execution_count": 12,
   "id": "8c7d7fd8-6843-41e5-86bb-5f58b188e9cb",
   "metadata": {},
   "outputs": [
    {
     "name": "stdout",
     "output_type": "stream",
     "text": [
      "True\n",
      "False\n"
     ]
    }
   ],
   "source": [
    "var1 = 5\n",
    "var2 = 5\n",
    "var3 = 7\n",
    "\n",
    "print(var1 == var2)\n",
    "print(var1 >= var3)"
   ]
  },
  {
   "cell_type": "markdown",
   "id": "ddadbd90-9685-465c-80bd-dc2be30987d0",
   "metadata": {},
   "source": [
    "### Conversor de monedas\n",
    "\n",
    "A continuación se implementará código para realizar un conversor de monedas de Quetzal (moneda Guatemalteca) a Dólares y viceversab"
   ]
  },
  {
   "cell_type": "code",
   "execution_count": 24,
   "id": "a491cae8-bbc0-4266-a96f-c7129c358bc4",
   "metadata": {},
   "outputs": [
    {
     "name": "stdout",
     "output_type": "stream",
     "text": [
      " Bienvenido al conversor de monedas para Guatemala. \n",
      " A continuación digite 1 si quiere convertir de Quetzales a Dólares \n",
      " Digite 2 si quiere convertir de Dólares a Quetzales 2\n"
     ]
    },
    {
     "name": "stdout",
     "output_type": "stream",
     "text": [
      "Ha escogido convertir de Dólares a quetzales. Actualmente el cambio se encuentra en Q7.75. Ingrese su monto:\n"
     ]
    },
    {
     "name": "stdout",
     "output_type": "stream",
     "text": [
      " 700\n"
     ]
    },
    {
     "name": "stdout",
     "output_type": "stream",
     "text": [
      "Usted tiene: 775.0 quetzales\n"
     ]
    }
   ],
   "source": [
    "# Lo primero es declarar variables\n",
    "\n",
    "var = input(' Bienvenido al conversor de monedas para Guatemala. \\n A continuación digite 1 si quiere convertir de Quetzales a Dólares \\n Digite 2 si quiere convertir de Dólares a Quetzales')\n",
    "var=int(var)\n",
    "if var == 1:\n",
    "    print('Ha escogido convertir de Quetzales a Dólares. Actualmente el cambio se encuentra en Q7.75. Ingrese su monto:')\n",
    "    var1 = input()\n",
    "    var1 = float(var1)\n",
    "    res1 = var1/7.75\n",
    "    print('Usted tiene:', res1, 'dólares')\n",
    "elif var == 2:\n",
    "    print('Ha escogido convertir de Dólares a quetzales. Actualmente el cambio se encuentra en Q7.75. Ingrese su monto:')\n",
    "    var2 = input()\n",
    "    var2 = float(var1)\n",
    "    res2 = float(var1*7.75)\n",
    "    print('Usted tiene:', res2, 'quetzales')\n",
    "else:\n",
    "    print('Digite un número Valido')\n"
   ]
  },
  {
   "cell_type": "markdown",
   "id": "2a03826d-63ee-4a20-b0bf-14ea61c85eb0",
   "metadata": {},
   "source": [
    "### Condicionales \n",
    "\n",
    "A continuación se da una introducción al condicional if, donde su estrurctura es:\n",
    "\n",
    "    si sucede esto\n",
    "        entonces haz esto\n",
    "    sino, sucede esto\n",
    "        entonces haz esto\n",
    "    de lo contrario, sino se cumple ninguno\n",
    "        haz esto otro"
   ]
  },
  {
   "cell_type": "code",
   "execution_count": 25,
   "id": "da6798a9-4855-4565-9afc-17548657e6d5",
   "metadata": {},
   "outputs": [
    {
     "name": "stdout",
     "output_type": "stream",
     "text": [
      "Digite un número 1\n"
     ]
    },
    {
     "name": "stdout",
     "output_type": "stream",
     "text": [
      "Sú número es menor a 5\n"
     ]
    }
   ],
   "source": [
    "# Se va a verificar que un número sea mayor, menor o igual a 5\n",
    "\n",
    "var1 = int(input('Digite un número'))\n",
    "\n",
    "if var1 > 5:\n",
    "    print('Su número es mayor a 5')\n",
    "elif var1 == 5:\n",
    "    print('Su número es igual a 5')\n",
    "else:\n",
    "    print('Sú número es menor a 5')"
   ]
  },
  {
   "cell_type": "markdown",
   "id": "a64c7610-c47e-444e-a8e7-5dd30f8fcd74",
   "metadata": {},
   "source": [
    "### Aprendiendo a no repetir código con funciones\n",
    "\n",
    "Una buena práctica y ahorro de líneas de código es el uso de funciones para reducir tiempo y trabajo"
   ]
  },
  {
   "cell_type": "code",
   "execution_count": 26,
   "id": "b85397a3-d2d2-4bec-b588-9f1802bcfaf3",
   "metadata": {},
   "outputs": [
    {
     "name": "stdout",
     "output_type": "stream",
     "text": [
      "Hola este es un mensaje importante\n",
      "¡Estoy aprendiendo a programar!\n",
      "Hola este es un mensaje importante\n",
      "¡Estoy aprendiendo a programar!\n",
      "Hola este es un mensaje importante\n",
      "¡Estoy aprendiendo a programar!\n"
     ]
    }
   ],
   "source": [
    "# Escribir una función que imprima varias veces un texto\n",
    "\n",
    "def imprimirdatos():\n",
    "    print('Hola este es un mensaje importante')\n",
    "    print('¡Estoy aprendiendo a programar!')\n",
    "          \n",
    "imprimirdatos()\n",
    "imprimirdatos()\n",
    "imprimirdatos()"
   ]
  },
  {
   "cell_type": "code",
   "execution_count": 29,
   "id": "88b91bf4-09f7-46f4-a58b-e214b3c7e45d",
   "metadata": {},
   "outputs": [
    {
     "name": "stdout",
     "output_type": "stream",
     "text": [
      "elige una opción (1,2,3) 4\n"
     ]
    },
    {
     "name": "stdout",
     "output_type": "stream",
     "text": [
      "digite un número correcto.\n"
     ]
    }
   ],
   "source": [
    "# Ahora se implementa con las condicionales if\n",
    "\n",
    "def saludo(mensaje):\n",
    "    print(' Hola\\n Cómo estás\\n Elegiste la opción', mensaje)\n",
    "    \n",
    "opcion = int(input('elige una opción (1,2,3)'))\n",
    "\n",
    "if opcion == 1:\n",
    "    saludo(1)\n",
    "elif opcion == 2:\n",
    "    saludo(2)\n",
    "elif opcion == 3:\n",
    "    saludo(3)\n",
    "else:\n",
    "    print('digite un número correcto.')"
   ]
  },
  {
   "cell_type": "markdown",
   "id": "2357a03b-ec6a-45b0-81f3-78c0f8475ae6",
   "metadata": {},
   "source": [
    "### Metodos en python\n",
    "\n",
    "Una función para un tipo de datos en particula. Por ejemplo, existe el metodo 'upper' que transforma el nombre en mayúsculasb\n"
   ]
  },
  {
   "cell_type": "code",
   "execution_count": 1,
   "id": "f5d85bdb-d1c6-4141-af8f-35fc97c89620",
   "metadata": {},
   "outputs": [
    {
     "name": "stdout",
     "output_type": "stream",
     "text": [
      "escribe tu nombre jeff\n"
     ]
    },
    {
     "data": {
      "text/plain": [
       "'JEFF'"
      ]
     },
     "execution_count": 1,
     "metadata": {},
     "output_type": "execute_result"
    }
   ],
   "source": [
    "nombre = input('escribe tu nombre')\n",
    "nombre.upper()"
   ]
  },
  {
   "cell_type": "markdown",
   "id": "180df10a-5d78-4785-bbd8-5fc77fe735a1",
   "metadata": {},
   "source": [
    "Pero si se requiere que se ponga en mayúsculas solo la primera letra, se usa el método 'Capitalize'"
   ]
  },
  {
   "cell_type": "code",
   "execution_count": 2,
   "id": "0fd3e3fd-fcd8-4237-8557-eefc9e465a91",
   "metadata": {},
   "outputs": [
    {
     "data": {
      "text/plain": [
       "'Jeff'"
      ]
     },
     "execution_count": 2,
     "metadata": {},
     "output_type": "execute_result"
    }
   ],
   "source": [
    "nombre.capitalize()"
   ]
  },
  {
   "cell_type": "code",
   "execution_count": 3,
   "id": "cc7b1f9d-bbf3-4878-b7ff-4b962673606a",
   "metadata": {},
   "outputs": [
    {
     "data": {
      "text/plain": [
       "'jeff'"
      ]
     },
     "execution_count": 3,
     "metadata": {},
     "output_type": "execute_result"
    }
   ],
   "source": [
    "# Pero el nombre sigue mal escrito\n",
    "nombre"
   ]
  },
  {
   "cell_type": "code",
   "execution_count": 5,
   "id": "11e7ef37-ebdb-4c4b-a94b-ddccef0487b1",
   "metadata": {},
   "outputs": [
    {
     "data": {
      "text/plain": [
       "'Jeff'"
      ]
     },
     "execution_count": 5,
     "metadata": {},
     "output_type": "execute_result"
    }
   ],
   "source": [
    "# Para aplicarlo se hace un cambio de variable\n",
    "\n",
    "nombre = nombre.capitalize()\n",
    "nombre"
   ]
  },
  {
   "cell_type": "code",
   "execution_count": 7,
   "id": "f1582c10-5333-4b4e-8d36-1f134e750ed3",
   "metadata": {},
   "outputs": [
    {
     "data": {
      "text/plain": [
       "'Jeff '"
      ]
     },
     "execution_count": 7,
     "metadata": {},
     "output_type": "execute_result"
    }
   ],
   "source": [
    "#si ahora la palabra tiene espacios, se utiliza el método strip() para eliminar espacios al principio y al final de las palabras\n",
    "\n",
    "nombre = 'Jeff '\n",
    "nombre"
   ]
  },
  {
   "cell_type": "code",
   "execution_count": 8,
   "id": "cdb3e087-d0b8-45dc-82f1-d97e59c5ce07",
   "metadata": {},
   "outputs": [
    {
     "data": {
      "text/plain": [
       "'Jeff'"
      ]
     },
     "execution_count": 8,
     "metadata": {},
     "output_type": "execute_result"
    }
   ],
   "source": [
    "nombre = nombre.strip()\n",
    "nombre"
   ]
  },
  {
   "cell_type": "code",
   "execution_count": 9,
   "id": "68316aa0-985a-42e8-b4d1-21e2937db531",
   "metadata": {},
   "outputs": [
    {
     "data": {
      "text/plain": [
       "'jeff'"
      ]
     },
     "execution_count": 9,
     "metadata": {},
     "output_type": "execute_result"
    }
   ],
   "source": [
    "# Para ponerlo todo en minusculas se utiliza el metodo lower()\n",
    "\n",
    "nombre.lower()"
   ]
  },
  {
   "cell_type": "code",
   "execution_count": 11,
   "id": "6d130ddc-4bc2-4510-bc7a-78b1192fb448",
   "metadata": {},
   "outputs": [
    {
     "data": {
      "text/plain": [
       "'Juff'"
      ]
     },
     "execution_count": 11,
     "metadata": {},
     "output_type": "execute_result"
    }
   ],
   "source": [
    "# Para reemplazar una letra en la variable nombre, se utiliza el metodo replace(,) donde tiene dos parámetros, 1ero el que se va a cambiar y 2do por cuál se va a cambiar.\n",
    "\n",
    "nombre.replace('e','u')"
   ]
  },
  {
   "cell_type": "code",
   "execution_count": 12,
   "id": "2c1b77ed-02e2-4137-b163-b845ca114107",
   "metadata": {},
   "outputs": [
    {
     "data": {
      "text/plain": [
       "'J'"
      ]
     },
     "execution_count": 12,
     "metadata": {},
     "output_type": "execute_result"
    }
   ],
   "source": [
    "# además, python reconoce la variable nombre como una lista de caracteres, por lo que la variable nombre la puede dividir en letras. \n",
    "# Por ser así, python empieza siempre sus listas desde 0\n",
    "\n",
    "nombre[0]\n"
   ]
  },
  {
   "cell_type": "code",
   "execution_count": 15,
   "id": "475a6afd-59b5-4af5-9a0c-2a8ba2410220",
   "metadata": {},
   "outputs": [
    {
     "data": {
      "text/plain": [
       "4"
      ]
     },
     "execution_count": 15,
     "metadata": {},
     "output_type": "execute_result"
    }
   ],
   "source": [
    "# Para saber cuántos caracteres existen en mi variable, se utiliza la función lens()\n",
    "\n",
    "len(nombre)"
   ]
  },
  {
   "cell_type": "code",
   "execution_count": 17,
   "id": "ca57c8d4-c00e-4da3-90e0-c238014f1036",
   "metadata": {},
   "outputs": [
    {
     "data": {
      "text/plain": [
       "'Je'"
      ]
     },
     "execution_count": 17,
     "metadata": {},
     "output_type": "execute_result"
    }
   ],
   "source": [
    "#si se quiere partir el nombre en slices, se utiliza [:] donde el primer parametro es de donde se inicia y el segundo donde termina\n",
    "\n",
    "nombre[0:2]\n",
    "\n",
    "#si no se agrega argumento se toma que empieza desde el principio [:2] o que toma hasta el final [0:]"
   ]
  },
  {
   "cell_type": "code",
   "execution_count": 21,
   "id": "326c23cc-4c77-4e97-a02a-e471ea75220d",
   "metadata": {},
   "outputs": [
    {
     "data": {
      "text/plain": [
       "'Jf'"
      ]
     },
     "execution_count": 21,
     "metadata": {},
     "output_type": "execute_result"
    }
   ],
   "source": [
    "# Para escribir de paso en paso se introduce un nuevo parametro\n",
    "nombre[0::2]\n"
   ]
  },
  {
   "cell_type": "code",
   "execution_count": 22,
   "id": "78a83a13-b469-4d17-854b-0461a9e577b3",
   "metadata": {},
   "outputs": [
    {
     "data": {
      "text/plain": [
       "'ffeJ'"
      ]
     },
     "execution_count": 22,
     "metadata": {},
     "output_type": "execute_result"
    }
   ],
   "source": [
    "# Y si se quisiera escribir al revés, se dan pasos de 1 en 1 pero hacia atrás\n",
    "nombre[::-1]"
   ]
  },
  {
   "cell_type": "code",
   "execution_count": 7,
   "id": "8b30df9e-6c36-45c9-a5ba-8b5083438c32",
   "metadata": {},
   "outputs": [
    {
     "name": "stdout",
     "output_type": "stream",
     "text": [
      "Escribe una palabra luz azul\n"
     ]
    },
    {
     "name": "stdout",
     "output_type": "stream",
     "text": [
      "Su palabra es palindromo\n"
     ]
    }
   ],
   "source": [
    "# EJERCICIO \n",
    "\n",
    "# Programa que verifica si una palabra es palídromo o no\n",
    "\n",
    "# Se feine una función para invertir una palabra\n",
    "\n",
    "def palindromo(palabra):\n",
    "    # se eliminan todos los espacios\n",
    "    palabra = palabra.replace(' ','')\n",
    "    # se escribe todo en minúsculas\n",
    "    palabra = palabra.lower()\n",
    "    palabra_invertida = palabra[::-1]\n",
    "    if palabra == palabra_invertida:\n",
    "        return True\n",
    "    else: \n",
    "        return False\n",
    "\n",
    "def run():\n",
    "    palabra = input('Escribe una palabra')\n",
    "    if palindromo(palabra) == True:\n",
    "        print('Su palabra es palindromo')\n",
    "    else:\n",
    "        print('su palabra no es palíndromo')\n",
    "# el uso de esta última línea de código es una buena práctica\n",
    "# hace referencia al manejo adecuado cuando se importan librerías\n",
    "# u otros códigos en nuestro código principal.\n",
    "# haciendo que las funciones defininas sean utilizadas solo si se llaman.\n",
    "if __name__ == '__main__':\n",
    "    run()"
   ]
  },
  {
   "cell_type": "markdown",
   "id": "0eda92e4-33c3-48f6-86ad-1b91e9310f3d",
   "metadata": {},
   "source": [
    "### Bucles\n",
    "\n",
    "Para algoritmos que se repiten definidas veces, se utilizand bucles que realizan tareas. Uno de los bucles que se mostrarán es el bucle 'While' y luego el ciclo \"for\""
   ]
  },
  {
   "cell_type": "code",
   "execution_count": 25,
   "id": "1b991d64-f903-476f-9fe5-d417ab4443db",
   "metadata": {},
   "outputs": [
    {
     "name": "stdout",
     "output_type": "stream",
     "text": [
      "2 elevado a 0 es 1\n",
      "2 elevado a 1 es 2\n",
      "2 elevado a 2 es 4\n",
      "2 elevado a 3 es 8\n",
      "2 elevado a 4 es 16\n",
      "2 elevado a 5 es 32\n",
      "2 elevado a 6 es 64\n",
      "2 elevado a 7 es 128\n",
      "2 elevado a 8 es 256\n",
      "2 elevado a 9 es 512\n"
     ]
    }
   ],
   "source": [
    "+"
   ]
  },
  {
   "cell_type": "code",
   "execution_count": 26,
   "id": "95f69c23-4978-4d85-9195-34c31849f924",
   "metadata": {},
   "outputs": [
    {
     "name": "stdout",
     "output_type": "stream",
     "text": [
      "1\n",
      "2\n",
      "3\n",
      "4\n",
      "5\n",
      "6\n",
      "7\n",
      "8\n",
      "9\n",
      "10\n",
      "11\n",
      "12\n",
      "13\n",
      "14\n",
      "15\n",
      "16\n",
      "17\n",
      "18\n",
      "19\n",
      "20\n",
      "21\n",
      "22\n",
      "23\n",
      "24\n",
      "25\n",
      "26\n",
      "27\n",
      "28\n",
      "29\n",
      "30\n",
      "31\n",
      "32\n",
      "33\n",
      "34\n",
      "35\n",
      "36\n",
      "37\n",
      "38\n",
      "39\n",
      "40\n",
      "41\n",
      "42\n",
      "43\n",
      "44\n",
      "45\n",
      "46\n",
      "47\n",
      "48\n",
      "49\n",
      "50\n",
      "51\n",
      "52\n",
      "53\n",
      "54\n",
      "55\n",
      "56\n",
      "57\n",
      "58\n",
      "59\n",
      "60\n",
      "61\n",
      "62\n",
      "63\n",
      "64\n",
      "65\n",
      "66\n",
      "67\n",
      "68\n",
      "69\n",
      "70\n",
      "71\n",
      "72\n",
      "73\n",
      "74\n",
      "75\n",
      "76\n",
      "77\n",
      "78\n",
      "79\n",
      "80\n",
      "81\n",
      "82\n",
      "83\n",
      "84\n",
      "85\n",
      "86\n",
      "87\n",
      "88\n",
      "89\n",
      "90\n",
      "91\n",
      "92\n",
      "93\n",
      "94\n",
      "95\n",
      "96\n",
      "97\n",
      "98\n",
      "99\n",
      "100\n"
     ]
    }
   ],
   "source": [
    "# otro de los ciclos muy famosos es el ciclo for\n",
    "# Ejemplo de ciclo for que escribe los números del 1 al 100\n",
    "\n",
    "#La función range tiene dos parámetros, donde el primero es donde empieza y\n",
    "# el segundo donde acaba, terminando siempre en el valor n-1, por ese se elige 101\n",
    "for i in range(1,101):\n",
    "    print(i)"
   ]
  },
  {
   "cell_type": "code",
   "execution_count": 27,
   "id": "e61020ab-afa1-4127-87f6-fe49d1022487",
   "metadata": {},
   "outputs": [
    {
     "name": "stdout",
     "output_type": "stream",
     "text": [
      "escribe tu nombre jeff\n"
     ]
    },
    {
     "name": "stdout",
     "output_type": "stream",
     "text": [
      "j\n",
      "e\n",
      "f\n",
      "f\n"
     ]
    }
   ],
   "source": [
    "# Para hacer un for con string\n",
    "\n",
    "def run():\n",
    "    nombre = input('escribe tu nombre')\n",
    "    for letras in nombre:\n",
    "        print(letras)\n",
    "\n",
    "if __name__ == '__main__':\n",
    "    run()"
   ]
  },
  {
   "cell_type": "markdown",
   "id": "0f1f969a-f4cc-4765-a216-87e65befa5ff",
   "metadata": {},
   "source": [
    "Para interrumpir ciclos while y for se utilizan los comandos break y continue"
   ]
  },
  {
   "cell_type": "code",
   "execution_count": 28,
   "id": "ab1bf147-8b3f-4bd0-8876-8a38f44e4cbf",
   "metadata": {},
   "outputs": [
    {
     "name": "stdout",
     "output_type": "stream",
     "text": [
      "0\n",
      "2\n",
      "4\n",
      "6\n",
      "8\n",
      "10\n",
      "12\n",
      "14\n",
      "16\n",
      "18\n",
      "20\n",
      "22\n",
      "24\n",
      "26\n",
      "28\n",
      "30\n",
      "32\n",
      "34\n",
      "36\n",
      "38\n",
      "40\n",
      "42\n",
      "44\n",
      "46\n",
      "48\n",
      "50\n",
      "52\n",
      "54\n",
      "56\n",
      "58\n",
      "60\n",
      "62\n",
      "64\n",
      "66\n",
      "68\n",
      "70\n",
      "72\n",
      "74\n",
      "76\n",
      "78\n",
      "80\n",
      "82\n",
      "84\n",
      "86\n",
      "88\n",
      "90\n",
      "92\n",
      "94\n",
      "96\n",
      "98\n"
     ]
    }
   ],
   "source": [
    "# Código que imprime los números pares del 1 al 100\n",
    "\n",
    "def run():\n",
    "    for i in range(100):\n",
    "        #si el número al dividirlo dentro de 2, da como resto algo distinto de 0\n",
    "        #es número impar y se pasa al siguiente.\n",
    "        if i % 2 != 0:\n",
    "            #el comando continue indica que el siguiente código no se va a ejecutar\n",
    "            continue\n",
    "        print(i)\n",
    "\n",
    "\n",
    "if __name__ == '__main__':\n",
    "    run()"
   ]
  },
  {
   "cell_type": "code",
   "execution_count": 30,
   "id": "52c3a47a-05dc-42b5-a1d0-b29a69aa3183",
   "metadata": {},
   "outputs": [
    {
     "name": "stdout",
     "output_type": "stream",
     "text": [
      "0\n",
      "1\n",
      "2\n",
      "3\n",
      "4\n",
      "5\n",
      "6\n"
     ]
    }
   ],
   "source": [
    "# La utilización de break es para cortar el ciclo\n",
    "\n",
    "def run():\n",
    "    for i in range(10):\n",
    "        if i == 7:\n",
    "            break\n",
    "        print(i)\n",
    "\n",
    "\n",
    "if __name__ == '__main__':\n",
    "    run()"
   ]
  },
  {
   "cell_type": "code",
   "execution_count": 32,
   "id": "df840247-e26d-4197-b38a-3be6f389d0b9",
   "metadata": {},
   "outputs": [
    {
     "name": "stdout",
     "output_type": "stream",
     "text": [
      "ingrese un número 9\n"
     ]
    },
    {
     "name": "stdout",
     "output_type": "stream",
     "text": [
      "no es primo\n"
     ]
    }
   ],
   "source": [
    "# Programa que verifica si un número es primo o no\n",
    "\n",
    "def primo(numero):\n",
    "    contador = 0\n",
    "    # Se dividira al número elegido, por todos los números desde el 2\n",
    "    # hasta el número-1\n",
    "    for i in range(1,numero+1):\n",
    "        # se sabe que los primos son aquellos divididos por 1 y por ellos mismos\n",
    "        # así que esas opciones no las queremos, damos continue\n",
    "        if i == 1 or i == numero:\n",
    "            continue\n",
    "        # si se divide al número por i (todos los números de 1 al número)\n",
    "        # si el residuo entre esos dos números es 0, se suma un número a contador\n",
    "        if numero % i == 0:\n",
    "            contador+=1\n",
    "    if contador == 0:\n",
    "        return True\n",
    "    else:\n",
    "        return False\n",
    "        \n",
    "\n",
    "def run():\n",
    "    numero = int(input('ingrese un número'))\n",
    "    # No es necesario agregar el == True debido a que si no se agrega nada\n",
    "    # Python lo toma de esta manera\n",
    "    if primo(numero):\n",
    "        print('Es primo')\n",
    "    else:\n",
    "        print('no es primo')\n",
    "\n",
    "if __name__ == '__main__':\n",
    "    run()"
   ]
  },
  {
   "cell_type": "code",
   "execution_count": 1,
   "id": "305e044f-2161-4022-b36a-b5c772e9271a",
   "metadata": {},
   "outputs": [
    {
     "name": "stdout",
     "output_type": "stream",
     "text": [
      "Elige un número entre el 1 al 100: 90\n"
     ]
    },
    {
     "name": "stdout",
     "output_type": "stream",
     "text": [
      "Busca un número más pequeño\n"
     ]
    },
    {
     "name": "stdout",
     "output_type": "stream",
     "text": [
      "Elige otro número 50\n"
     ]
    },
    {
     "name": "stdout",
     "output_type": "stream",
     "text": [
      "Busca un número más grande\n"
     ]
    },
    {
     "name": "stdout",
     "output_type": "stream",
     "text": [
      "Elige otro número 60\n"
     ]
    },
    {
     "name": "stdout",
     "output_type": "stream",
     "text": [
      "Busca un número más grande\n"
     ]
    },
    {
     "name": "stdout",
     "output_type": "stream",
     "text": [
      "Elige otro número 70\n"
     ]
    },
    {
     "name": "stdout",
     "output_type": "stream",
     "text": [
      "Busca un número más grande\n"
     ]
    },
    {
     "name": "stdout",
     "output_type": "stream",
     "text": [
      "Elige otro número 80\n"
     ]
    },
    {
     "name": "stdout",
     "output_type": "stream",
     "text": [
      "Busca un número más pequeño\n"
     ]
    },
    {
     "name": "stdout",
     "output_type": "stream",
     "text": [
      "Elige otro número 72\n"
     ]
    },
    {
     "name": "stdout",
     "output_type": "stream",
     "text": [
      "Busca un número más grande\n"
     ]
    },
    {
     "name": "stdout",
     "output_type": "stream",
     "text": [
      "Elige otro número 77\n"
     ]
    },
    {
     "name": "stdout",
     "output_type": "stream",
     "text": [
      "Busca un número más pequeño\n"
     ]
    },
    {
     "name": "stdout",
     "output_type": "stream",
     "text": [
      "Elige otro número 75\n"
     ]
    },
    {
     "name": "stdout",
     "output_type": "stream",
     "text": [
      "Busca un número más pequeño\n"
     ]
    },
    {
     "name": "stdout",
     "output_type": "stream",
     "text": [
      "Elige otro número 74\n"
     ]
    },
    {
     "name": "stdout",
     "output_type": "stream",
     "text": [
      "Busca un número más pequeño\n"
     ]
    },
    {
     "name": "stdout",
     "output_type": "stream",
     "text": [
      "Elige otro número 73\n"
     ]
    },
    {
     "name": "stdout",
     "output_type": "stream",
     "text": [
      "¡Ganaste!\n"
     ]
    }
   ],
   "source": [
    "# programa de juego para adivinar un número\n",
    "\n",
    "#importamos la librería random\n",
    "import random as rd\n",
    "\n",
    "\n",
    "def run():\n",
    "    numero_aleatorio = rd.randint(1,100)\n",
    "    numero_elegido = int(input('Elige un número entre el 1 al 100:'))\n",
    "    while numero_aleatorio != numero_elegido:\n",
    "        if numero_elegido < numero_aleatorio:\n",
    "            print('Busca un número más grande')\n",
    "        else:\n",
    "            print('Busca un número más pequeño')\n",
    "        numero_elegido = int(input('Elige otro número'))\n",
    "    print('¡Ganaste!')\n",
    "    \n",
    "    \n",
    "if __name__ == '__main__':\n",
    "    run()"
   ]
  },
  {
   "cell_type": "markdown",
   "id": "870a8204-6db8-4f64-bb4d-30daaf8e5838",
   "metadata": {},
   "source": [
    "## Listas\n",
    "\n",
    "En python es posible guardar más de un dato en una sola variable, a eso se le llama lista o array. Para escribir estas listas se escriben dentro de [,].\n",
    "Estas listas no se basan en guardar números, también guardan enteros, float, string y booleanos. Si se quiere obtener el n-elemento de la lista, se llama con lista[n]. Para agregar elementos dentro de lista, se utiliza el método append con lista.append(1). Y para borrar elementos de la lista se utiliza el método pop con lista.pop(1).\n",
    "Con un ciclo for es posible imprimir todos los valores dentro de una lista"
   ]
  },
  {
   "cell_type": "code",
   "execution_count": 5,
   "id": "452ac4f5-2909-4be2-859f-83033d9adf6c",
   "metadata": {},
   "outputs": [
    {
     "name": "stdout",
     "output_type": "stream",
     "text": [
      "1\n",
      "3\n",
      "4\n",
      "5\n",
      "6\n",
      "7\n"
     ]
    }
   ],
   "source": [
    "#Se inicia una lista\n",
    "\n",
    "array = [1,2,3,4,5,6]\n",
    "\n",
    "#se agrega un elemento\n",
    "\n",
    "array.append(7)\n",
    "\n",
    "#y se borra un elemento\n",
    "#esto borrará el elemento 2 de la lista porque empieza contando desde 0: 0,1,2,3,...\n",
    "array.pop(1)\n",
    "\n",
    "#se imprimen los datos\n",
    "\n",
    "for i in array:\n",
    "    print(i)"
   ]
  },
  {
   "cell_type": "code",
   "execution_count": 6,
   "id": "9a78cb06-8fbf-4871-9db9-19652cb285b1",
   "metadata": {},
   "outputs": [
    {
     "data": {
      "text/plain": [
       "[7, 6, 5, 4, 3, 1]"
      ]
     },
     "execution_count": 6,
     "metadata": {},
     "output_type": "execute_result"
    }
   ],
   "source": [
    "# y para invertir la lista\n",
    "\n",
    "array[::-1]"
   ]
  },
  {
   "cell_type": "markdown",
   "id": "33fcaf91-6d57-4a32-bfce-4ba7f71f8547",
   "metadata": {},
   "source": [
    "## Tuplas\n",
    "\n",
    "La diferencia más notable es que las listas son objetos dinámicos mientras que las tuplas son objetos estáticos. Imprimir datos con un ciclo for es más rápido con una tupla que con una lista. A las tuplas se le llaman objetos inmutables."
   ]
  },
  {
   "cell_type": "code",
   "execution_count": 7,
   "id": "27ac2f09-0574-4330-a54f-ea356ed783d5",
   "metadata": {},
   "outputs": [
    {
     "name": "stdout",
     "output_type": "stream",
     "text": [
      "1\n",
      "2\n",
      "3\n",
      "4\n",
      "5\n"
     ]
    }
   ],
   "source": [
    "tupla = (1,2,3,4,5)\n",
    "\n",
    "for i in tupla:\n",
    "    print(i)"
   ]
  },
  {
   "cell_type": "markdown",
   "id": "8d9b5683-9147-4055-a229-6bb08bebc58b",
   "metadata": {},
   "source": [
    "## Diccionarios\n",
    "\n",
    "Los diccionarios sirven para guardar información en una llave y su sintaxis es diccionario = {}"
   ]
  },
  {
   "cell_type": "code",
   "execution_count": 25,
   "id": "6937ab42-c217-4d57-9c6a-23354d8fbf17",
   "metadata": {},
   "outputs": [
    {
     "name": "stdout",
     "output_type": "stream",
     "text": [
      "1\n",
      "llave1\n",
      "llave2\n",
      "llave3\n",
      "1\n",
      "2\n",
      "3\n",
      "llave1 1\n",
      "llave2 2\n",
      "llave3 3\n"
     ]
    }
   ],
   "source": [
    "def run():\n",
    "    mi_diccionario = {\n",
    "        'llave1': 1,\n",
    "        'llave2': 2,\n",
    "        'llave3': 3\n",
    "    }\n",
    "    # Para imprimir una llave\n",
    "    print(mi_diccionario['llave1'])\n",
    "    #para imprimir todas las llaves\n",
    "    for i in mi_diccionario.keys():\n",
    "        print(i)\n",
    "    #Para imprimir todos los valores\n",
    "    for i in mi_diccionario.values():\n",
    "        print(i)\n",
    "    #Para imprimir las llaves con sus valores    \n",
    "    for i,n in mi_diccionario.items():\n",
    "        print(i,n)\n",
    "# para acceder a la información basta con print(diccionario) per si se quiere jalar solo un dato de cierta llave\n",
    "\n",
    "if __name__ == '__main__':\n",
    "    run()\n",
    "    \n"
   ]
  },
  {
   "cell_type": "markdown",
   "id": "ded54712-e62a-45df-a9d2-c3b9a4470fc5",
   "metadata": {},
   "source": [
    "# Generador de contraseñas. \n",
    "## Proyecto final"
   ]
  },
  {
   "cell_type": "code",
   "execution_count": 55,
   "id": "71ce2e63-173b-4b91-a093-10521340db34",
   "metadata": {},
   "outputs": [
    {
     "name": "stdout",
     "output_type": "stream",
     "text": [
      "Su nueva contraseña es: {ffi#Ñs;?4!pr°vq?3XC*d@Ul\n"
     ]
    }
   ],
   "source": [
    "# Programa que genera una contraseña de manera aleatoria\n",
    "\n",
    "#Se importa la libreria random\n",
    "import random\n",
    "\n",
    "def pass_generator():\n",
    "    # Se crean listas con todas las letras, números y símbolos\n",
    "    MAYUS = ['A', 'B', 'C', 'D', 'E', 'F', 'G', 'H', 'I', 'J', 'K', 'L', 'M', 'N', 'Ñ', 'O', 'P', 'Q', 'R', 'S', 'T', 'U', 'V', 'X', 'Y', 'Z']\n",
    "    MINUS = ['a', 'b', 'c', 'd', 'e', 'f', 'g', 'h', 'i', 'j', 'k', 'l', 'm', 'n', 'ñ', 'o', 'p', 'q', 'r', 's', 't', 'u', 'v', 'x', 'y', 'z']\n",
    "    NUMS = ['1', '2', '3', '4', '5', '6', '7', '8', '9', '0']\n",
    "    CHARS = ['*', '+', '-', '/', '@', '_', '?', '!', '[', '{', '(', ')', '}', ']', ',', ';', '.', '>', '<', '~', '°', '^', '&', '$', '#', '\"']\n",
    "    \n",
    "    character = MAYUS + MINUS + NUMS + CHARS\n",
    "    \n",
    "    # Se genera una lista vacía en la cual se va a escribir la contraseña:\n",
    "    password = []\n",
    "    \n",
    "    # Ciclo for para escribir en la lista vacía:\n",
    "    for i in range(25):\n",
    "        # Se escribe un caracter random de la lista character en la lista password\n",
    "        password.append(random.choice(character))\n",
    "    # Se hace que la lista password sea un string    \n",
    "    password = ''.join(password)\n",
    "    return password\n",
    "\n",
    "def run():\n",
    "    print('Su nueva contraseña es:',pass_generator())\n",
    "\n",
    "if __name__ == '__main__':\n",
    "    run()"
   ]
  },
  {
   "cell_type": "code",
   "execution_count": 1,
   "id": "6ae6fe76-120d-4fa8-adf7-8f0e49d722af",
   "metadata": {},
   "outputs": [
    {
     "name": "stdout",
     "output_type": "stream",
     "text": [
      "10.35\n"
     ]
    }
   ],
   "source": [
    "a = round(10.3456, 2)\n",
    "print(a)"
   ]
  },
  {
   "cell_type": "code",
   "execution_count": 2,
   "id": "29f5e1f2-e8e3-45cc-876f-5736773f94e1",
   "metadata": {},
   "outputs": [
    {
     "data": {
      "text/plain": [
       "40.0"
      ]
     },
     "execution_count": 2,
     "metadata": {},
     "output_type": "execute_result"
    }
   ],
   "source": [
    " 10 / 2 + 5 * 7"
   ]
  }
 ],
 "metadata": {
  "kernelspec": {
   "display_name": "Python 3 (ipykernel)",
   "language": "python",
   "name": "python3"
  },
  "language_info": {
   "codemirror_mode": {
    "name": "ipython",
    "version": 3
   },
   "file_extension": ".py",
   "mimetype": "text/x-python",
   "name": "python",
   "nbconvert_exporter": "python",
   "pygments_lexer": "ipython3",
   "version": "3.9.12"
  }
 },
 "nbformat": 4,
 "nbformat_minor": 5
}
